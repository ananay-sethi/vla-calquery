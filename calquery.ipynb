{
 "cells": [
  {
   "metadata": {},
   "cell_type": "markdown",
   "source": [
    "# Database maker\n",
    "\n",
    "**calquery** is a tool that queries the VLA Calibrator List and provides you with all the information necessary for determining what the best calibrators would be for your observation based on your requirements."
   ],
   "id": "1e7d477c574df64c"
  },
  {
   "metadata": {
    "ExecuteTime": {
     "end_time": "2024-06-07T19:58:16.006728Z",
     "start_time": "2024-06-07T19:58:15.996134Z"
    }
   },
   "cell_type": "code",
   "source": [
    "import pymongo\n",
    "import os\n",
    "from pymongo import MongoClient\n",
    "client = MongoClient('localhost', 27017)\n"
   ],
   "id": "d5b05b4aa22c5342",
   "outputs": [],
   "execution_count": 12
  },
  {
   "metadata": {
    "ExecuteTime": {
     "end_time": "2024-06-07T19:58:17.661624Z",
     "start_time": "2024-06-07T19:58:17.658228Z"
    }
   },
   "cell_type": "code",
   "source": [
    "# Create the database\n",
    "db = client['calquery_db']\n",
    "\n",
    "# Create the collection\n",
    "collection = db['calibrators']"
   ],
   "id": "21162a337b196500",
   "outputs": [],
   "execution_count": 13
  },
  {
   "metadata": {
    "ExecuteTime": {
     "end_time": "2024-06-07T21:15:43.948810Z",
     "start_time": "2024-06-07T21:15:43.032299Z"
    }
   },
   "cell_type": "code",
   "source": [
    "# Path to the directory containing the tiny .txt files\n",
    "input_dir = 'split_calibrators/'\n",
    "\n",
    "# Function to parse individual .txt file\n",
    "def parse_calibrator_file(file_path):\n",
    "    with open(file_path, 'r') as file:\n",
    "        lines = file.readlines()\n",
    "        \n",
    "        # Parse the first line for the main calibrator details\n",
    "        first_line = lines[0].strip().split()\n",
    "        calibrator = {\n",
    "            \"iau_name\": first_line[0],\n",
    "            \"equinox\": first_line[1],\n",
    "            \"pc\": first_line[2],\n",
    "            \"ra\": first_line[3],\n",
    "            \"dec\": first_line[4],\n",
    "            \"pos_ref\": first_line[5] if len(first_line) > 5 else None,\n",
    "            \"alt_name\": first_line[6] if len(first_line) > 6 else None,\n",
    "            \"bands\": []\n",
    "        }\n",
    "\n",
    "        # Skip to the lines with band data\n",
    "        band_lines = lines[5:]  # Skipping 2nd to 5th rows\n",
    "\n",
    "        for line in band_lines:\n",
    "            if line.strip() and not line.startswith(('===', '---')):\n",
    "                data = line.strip().split()\n",
    "                try:\n",
    "                    band_data = {\n",
    "                        \"band\": data[0],\n",
    "                        \"band_name\": data[1] if len(data) > 1 else None,\n",
    "                        \"config_a\": data[2] if len(data) > 2 else None,\n",
    "                        \"config_b\": data[3] if len(data) > 3 else None,\n",
    "                        \"config_c\": data[4] if len(data) > 4 else None,\n",
    "                        \"config_d\": data[5] if len(data) > 5 else None,\n",
    "                        \"flux_jy\": None if data[6] == '?' else float(data[6]) if data[6] else None,\n",
    "                        \"uvmin_kl\": None,\n",
    "                        \"uvmax_kl\": None,\n",
    "                        \"visplot\": None\n",
    "                    }\n",
    "                    # Check for uvmin_kl and uvmax_kl values\n",
    "                    if len(data) > 7:\n",
    "                        try:\n",
    "                            band_data[\"uvmin_kl\"] = float(data[7])\n",
    "                        except ValueError:\n",
    "                            band_data[\"visplot\"] = data[7]\n",
    "                    if len(data) > 8:\n",
    "                        try:\n",
    "                            band_data[\"uvmax_kl\"] = float(data[8])\n",
    "                        except ValueError:\n",
    "                            band_data[\"visplot\"] = data[8]\n",
    "                    if len(data) > 9:\n",
    "                        band_data[\"visplot\"] = data[9]\n",
    "    \n",
    "                    calibrator[\"bands\"].append(band_data)\n",
    "                \n",
    "                except IndexError as e:\n",
    "                    print(f\"IndexError in file {file_path}: {e}\")\n",
    "                    # Optionally, you can log the problematic line\n",
    "                    print(f\"Problematic line: {line.strip()}\")\n",
    "                    continue\n",
    "\n",
    "        return calibrator\n",
    "\n",
    "# Process each file in the input directory\n",
    "for file_name in os.listdir(input_dir):\n",
    "    if file_name.endswith('.txt'):\n",
    "        file_path = os.path.join(input_dir, file_name)\n",
    "        calibrator_data = parse_calibrator_file(file_path)\n",
    "        collection.insert_one(calibrator_data)\n",
    "\n",
    "print(\"Data inserted successfully!\")\n"
   ],
   "id": "54b8c153e2a7bf90",
   "outputs": [
    {
     "name": "stdout",
     "output_type": "stream",
     "text": [
      "IndexError in file split_calibrators/0253+180.txt: list index out of range\n",
      "Problematic line: 2cm    U                0.00\n",
      "IndexError in file split_calibrators/0627-058.txt: list index out of range\n",
      "Problematic line: 90cm    P  S               33           10\n",
      "IndexError in file split_calibrators/2149-130.txt: list index out of range\n",
      "Problematic line: 6cm    C  X X X X\n",
      "IndexError in file split_calibrators/2149-130.txt: list index out of range\n",
      "Problematic line: 2cm    U  X X X X\n",
      "Data inserted successfully!\n"
     ]
    }
   ],
   "execution_count": 29
  }
 ],
 "metadata": {
  "kernelspec": {
   "display_name": "Python 3",
   "language": "python",
   "name": "python3"
  },
  "language_info": {
   "codemirror_mode": {
    "name": "ipython",
    "version": 2
   },
   "file_extension": ".py",
   "mimetype": "text/x-python",
   "name": "python",
   "nbconvert_exporter": "python",
   "pygments_lexer": "ipython2",
   "version": "2.7.6"
  }
 },
 "nbformat": 4,
 "nbformat_minor": 5
}
